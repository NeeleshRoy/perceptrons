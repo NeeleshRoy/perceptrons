{
 "cells": [
  {
   "cell_type": "code",
   "execution_count": 5,
   "metadata": {
    "collapsed": true
   },
   "outputs": [],
   "source": [
    "import numpy as np\n",
    "import pandas as pd\n",
    "import matplotlib.pyplot as plt\n",
    "from sklearn import datasets\n",
    "from matplotlib.colors import ListedColormap"
   ]
  },
  {
   "cell_type": "markdown",
   "metadata": {},
   "source": [
    "# Adaptive linear Neuron class\n",
    "<b>Parameters:</b>\n",
    "    <li>eta :  float (Learning rate (0.0 < L < 0.1))\n",
    "    <li>n_iter: int (passes over the training dataset)\n",
    "    <li>random_state: int (Random seed generator for generating random weights)\n",
    "    \n",
    "<b>Attributes:</b>\n",
    "    <li>w_ : 1-d Array (Weights after fitting)\n",
    "    <li>errors_ : list (Number of missclassifications(updates))\n",
    "    <li> cost_ : list (costs)\n",
    "    \n",
    "<b>Functions:</b>\n",
    "\n",
    "<code>1. fit()</code>\n",
    "<br /> Parameters:<br />\n",
    "    <li>X: (Array-like), shape = [n_samples, n_features] (training vectors)</li>\n",
    "    <li>y: array-like, shape = [n_samples]</li>\n",
    "<br /> Returns:<br />\n",
    "    <li>self object</li>\n",
    "    \n",
    "<code>2. net_input() - calculate net input</code>\n",
    "<br /> Parameters:<br />\n",
    "    <li> Self\n",
    "    <li> X: (Array-like), shape = [n_samples, n_features] (training vectors)\n",
    "<br /> Returns:<br />\n",
    "    <li>self object\n",
    "    \n",
    "<code>3. predict() - predicts the model</code>\n",
    "<br /> Parameters:<br />\n",
    "    <li> Self\n",
    "    <li> X: (Array-like), shape = [n_samples, n_features] (training vectors)\n",
    "<br /> Returns:<br />\n",
    "    <li>self object\n",
    "    \n",
    "<code>3. activation() - self activation identity function</code>\n",
    "<br /> Parameters:<br />\n",
    "    <li> X: (Array-like), shape = [n_samples, n_features] (training vectors)\n",
    "<br /> Returns:<br />\n",
    "    <li> X"
   ]
  },
  {
   "cell_type": "code",
   "execution_count": 21,
   "metadata": {
    "collapsed": true
   },
   "outputs": [],
   "source": [
    "class AdalineGD(object):\n",
    "    def __init__(self, eta = 0.01, n_iter = 50, random_state = 1):\n",
    "        self.eta = eta\n",
    "        self.n_iter = n_iter\n",
    "        self.random_state = random_state\n",
    "        \n",
    "    def fit(self, X, y):\n",
    "        # Seed the random to reproduce previous results\n",
    "        rgen = np.random.RandomState(self.random_state)\n",
    "        \n",
    "        # Initialize weights and an empty cost\n",
    "        self.w_ = rgen.normal(loc=0.0, scale = 0.01, size = 1 + X.shape[1])\n",
    "        self.cost_ = []\n",
    "        \n",
    "        for i in range(self.n_iter):\n",
    "            net_input = self.net_input(X)\n",
    "            output = self.activation(net_input)\n",
    "            errors = (y - output)\n",
    "            self.w_[1:] += self.eta + X.T.dot(errors)\n",
    "            self.w_[0] += errors.sum()\n",
    "            cost = (errors ** 2).sum() / 2.0\n",
    "            self.cost_.append(cost)\n",
    "        return self\n",
    "    \n",
    "    # calculate net input\n",
    "    def net_input(self, X):\n",
    "        return np.dot(X, self.w_[1:]) + self.w_[0]\n",
    "    \n",
    "    # compute linear activation\n",
    "    def activation(self, X):\n",
    "        return X\n",
    "    \n",
    "    def predict(self, X):\n",
    "        return np.where(self.activation(self.net_input(X)) >= 0.0, 1, -1)\n",
    "        \n",
    "        "
   ]
  },
  {
   "cell_type": "markdown",
   "metadata": {},
   "source": [
    "## PREPARING DATA SET - IRIS\n",
    "1. X - First 100 rows of sepal length and petal length\n",
    "2. y :\n",
    "    * setosa : 1\n",
    "    * versicolor: -1"
   ]
  },
  {
   "cell_type": "code",
   "execution_count": 22,
   "metadata": {
    "collapsed": true
   },
   "outputs": [],
   "source": [
    "dataset = pd.read_csv(\"https://archive.ics.uci.edu/ml/machine-learning-databases/iris/iris.data\", header=None)\n",
    "dataset.tail()\n",
    "X = dataset.iloc[0:100, [0, 2]].values\n",
    "y = dataset.iloc[0:100, 4].values\n",
    "y = np.where(y == 'Iris-setosa', -1, 1)"
   ]
  },
  {
   "cell_type": "markdown",
   "metadata": {},
   "source": [
    "## Finding a good learning rate\n",
    "**Plotting Cost vs Number of epochs**\n",
    "\n",
    "*Hyperparameters in the algorithm:*\n",
    "<ul>\n",
    "    <li>ETA(learning rate)</li>\n",
    "    <li>n_iter(Number of epochs)</li>\n",
    "</ul>"
   ]
  },
  {
   "cell_type": "code",
   "execution_count": 23,
   "metadata": {},
   "outputs": [
    {
     "data": {
      "image/png": "[encoded data removed]",
      "text/plain": [
       "<matplotlib.figure.Figure at 0x1a17eb72b0>"
      ]
     },
     "metadata": {},
     "output_type": "display_data"
    }
   ],
   "source": [
    "fig, ax = plt.subplots(nrows = 1, ncols = 2, figsize = (10, 4))\n",
    "\n",
    "ada1 = AdalineGD(n_iter = 10, eta = 0.01).fit(X, y)\n",
    "ax[0].plot(range(1, len(ada1.cost_) + 1), np.log10(ada1.cost_), marker = 'o')\n",
    "ax[0].set_xlabel('Epochs')\n",
    "ax[0].set_ylabel('log(sum squared error)')\n",
    "ax[0].set_title('ADALINE - learning rate(0.01)')\n",
    "\n",
    "ada2 = AdalineGD(n_iter = 10, eta = 0.0001).fit(X, y)\n",
    "ax[1].plot(range(1, len(ada2.cost_) + 1), ada2.cost_, marker = 'o')\n",
    "ax[1].set_xlabel('Epochs')\n",
    "ax[1].set_ylabel('sum squared error')\n",
    "ax[1].set_title('ADALINE - learning rate(0.0001)')\n",
    "\n",
    "plt.show()"
   ]
  },
  {
   "cell_type": "code",
   "execution_count": null,
   "metadata": {
    "collapsed": true
   },
   "outputs": [],
   "source": []
  }
 ],
 "metadata": {
  "kernelspec": {
   "display_name": "Python 3",
   "language": "python",
   "name": "python3"
  },
  "language_info": {
   "codemirror_mode": {
    "name": "ipython",
    "version": 3
   },
   "file_extension": ".py",
   "mimetype": "text/x-python",
   "name": "python",
   "nbconvert_exporter": "python",
   "pygments_lexer": "ipython3",
   "version": "3.6.3"
  }
 },
 "nbformat": 4,
 "nbformat_minor": 2
}
